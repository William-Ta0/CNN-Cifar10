{
 "cells": [
  {
   "cell_type": "markdown",
   "metadata": {
    "id": "m_SLMzgGIpjE"
   },
   "source": [
    "Advanced Convolutional Neural Networks (CNNs) with CIFAR-10 dataset\n",
    "=========\n",
    "\n",
    "In this tutorial we will learn how to use more complex CNNs, showing that the training of a __deeper__ CNN can improve the performance of the model. We will also explore the concept of __data augmentation__ to understand how to increase the variability of the training set by, for example, rotating the original images to generate new training stimuli.\n",
    "\n",
    "This tutorail will use the CIFAR-10 training set.\n"
   ]
  },
  {
   "cell_type": "markdown",
   "metadata": {
    "id": "PKafL_SXIpjI"
   },
   "source": [
    "**CNN for CIFAR-10**\n",
    "\n",
    "To work with more complex CNNs, we will now use a more complex training dataset called __CIFAR-10__. https://www.cs.toronto.edu/~kriz/cifar.html . CIFAR-10 is a benchamark machine learning set of low-resolution, colour images. It includes 60000 32x32 colour (using 3 RGB colour channels) images in these 10 classes of objects: airplane, automobile, bird, cat, deer, dog, frog, horse, ship, truck. Each class has 6000. There are 50000 training images and 10000 test images. This dataset is enclosed in the default Anaconda KERAS package. \n"
   ]
  },
  {
   "cell_type": "markdown",
   "metadata": {
    "id": "XSw16YYkIpjK"
   },
   "source": [
    "**Initialisation of the program**\n",
    "\n",
    "The program starts with the importing of typical Keras and other Python service modules. "
   ]
  },
  {
   "cell_type": "code",
   "execution_count": 1,
   "metadata": {
    "colab": {
     "base_uri": "https://localhost:8080/"
    },
    "id": "x595vK3pIpjN",
    "outputId": "422206db-2d3f-4bd4-d07c-b205eb6007ec"
   },
   "outputs": [
    {
     "name": "stdout",
     "output_type": "stream",
     "text": [
      "Libraries imported.\n"
     ]
    }
   ],
   "source": [
    "# importing of modules for CIFAR-10 CNN \n",
    "from tensorflow.keras.datasets import cifar10\n",
    "from tensorflow.keras import utils\n",
    "from tensorflow.keras.models import Sequential\n",
    "from tensorflow.keras.layers import Dense, Dropout, Activation, Flatten\n",
    "from tensorflow.keras.layers import Conv2D, MaxPooling2D\n",
    "from tensorflow.keras.optimizers.legacy import SGD, Adam, RMSprop\n",
    "\n",
    "# importing of service libraries\n",
    "import numpy as np\n",
    "import matplotlib.pyplot as plt\n",
    "\n",
    "print('Libraries imported.')"
   ]
  },
  {
   "cell_type": "markdown",
   "metadata": {
    "id": "Wx5--x5hIpjV"
   },
   "source": [
    "The following constant and variable definitions are needed for the network and training parameters.\n"
   ]
  },
  {
   "cell_type": "code",
   "execution_count": 2,
   "metadata": {
    "colab": {
     "base_uri": "https://localhost:8080/"
    },
    "id": "O1SvoRcMIpjX",
    "outputId": "51831c4b-8f85-4570-ee52-326ed271a935"
   },
   "outputs": [
    {
     "name": "stdout",
     "output_type": "stream",
     "text": [
      "Main variables initialised.\n"
     ]
    }
   ],
   "source": [
    "#training constants\n",
    "BATCH_SIZE = 128\n",
    "N_EPOCH = 20 # use 20 for best initial results\n",
    "N_CLASSES = 10\n",
    "VERBOSE = 1\n",
    "VALIDATION_SPLIT = 0.2\n",
    "OPTIM = RMSprop()\n",
    "\n",
    "print('Main variables initialised.')"
   ]
  },
  {
   "cell_type": "markdown",
   "metadata": {
    "id": "KpuekS__Ipjd"
   },
   "source": [
    "Constant definition for the training set images"
   ]
  },
  {
   "cell_type": "code",
   "execution_count": 3,
   "metadata": {
    "colab": {
     "base_uri": "https://localhost:8080/"
    },
    "id": "DWaibn5BIpje",
    "outputId": "c1855f56-e2f6-445c-9ec9-59b638dd6d1f"
   },
   "outputs": [
    {
     "name": "stdout",
     "output_type": "stream",
     "text": [
      "Image variables initialisation\n"
     ]
    }
   ],
   "source": [
    "# CIFAR_10 is a set of 60K images 32x32 pixels on 3 channels\n",
    "IMG_CHANNELS = 3\n",
    "IMG_ROWS = 32\n",
    "IMG_COLS = 32\n",
    "\n",
    "print('Image variables initialisation')"
   ]
  },
  {
   "cell_type": "markdown",
   "metadata": {
    "id": "QcOhLgJ8Ipjk"
   },
   "source": [
    "__CIFAR-10 data loading and processing__\n",
    "\n",
    "Loading and preparation of the CIFAR-10 training set."
   ]
  },
  {
   "cell_type": "code",
   "execution_count": 4,
   "metadata": {
    "colab": {
     "base_uri": "https://localhost:8080/"
    },
    "id": "uVzGwn80Ipjm",
    "outputId": "b5c2f64e-2821-4813-af77-ef63090b1887"
   },
   "outputs": [
    {
     "name": "stdout",
     "output_type": "stream",
     "text": [
      "input_X_train shape: (50000, 32, 32, 3)\n",
      "50000 train samples\n",
      "10000 test samples\n"
     ]
    }
   ],
   "source": [
    "#load dataset\n",
    "(input_X_train, output_y_train), (input_X_test, output_y_test) = cifar10.load_data()\n",
    "print('input_X_train shape:', input_X_train.shape)\n",
    "print(input_X_train.shape[0], 'train samples')\n",
    "print(input_X_test.shape[0], 'test samples')\n",
    " \n",
    "# convert to categorical\n",
    "output_Y_train = utils.to_categorical(output_y_train, N_CLASSES)\n",
    "output_Y_test = utils.to_categorical(output_y_test, N_CLASSES) \n",
    "\n",
    "# float and normalization\n",
    "input_X_train = input_X_train.astype('float32')\n",
    "input_X_test = input_X_test.astype('float32')\n",
    "input_X_train /= 255\n",
    "input_X_test /= 255\n"
   ]
  },
  {
   "cell_type": "markdown",
   "metadata": {
    "id": "f6_L0SrmIpjr"
   },
   "source": [
    "**Visualisation of two sample CIFAR-10 images**\n",
    "\n",
    "Here we will visualise two sample images from the dataset."
   ]
  },
  {
   "cell_type": "code",
   "execution_count": 5,
   "metadata": {
    "colab": {
     "base_uri": "https://localhost:8080/",
     "height": 1000
    },
    "id": "U2gu1BhgIpjs",
    "outputId": "5eb14947-6d18-460e-a3ee-d359681bbd1b"
   },
   "outputs": [
    {
     "name": "stdout",
     "output_type": "stream",
     "text": [
      "Sample input image: [[[1.         1.         1.        ]\n",
      "  [0.99215686 0.99215686 0.99215686]\n",
      "  [0.99215686 0.99215686 0.99215686]\n",
      "  ...\n",
      "  [0.99215686 0.99215686 0.99215686]\n",
      "  [0.99215686 0.99215686 0.99215686]\n",
      "  [0.99215686 0.99215686 0.99215686]]\n",
      "\n",
      " [[1.         1.         1.        ]\n",
      "  [1.         1.         1.        ]\n",
      "  [1.         1.         1.        ]\n",
      "  ...\n",
      "  [1.         1.         1.        ]\n",
      "  [1.         1.         1.        ]\n",
      "  [1.         1.         1.        ]]\n",
      "\n",
      " [[1.         1.         1.        ]\n",
      "  [0.99607843 0.99607843 0.99607843]\n",
      "  [0.99607843 0.99607843 0.99607843]\n",
      "  ...\n",
      "  [0.99607843 0.99607843 0.99607843]\n",
      "  [0.99607843 0.99607843 0.99607843]\n",
      "  [0.99607843 0.99607843 0.99607843]]\n",
      "\n",
      " ...\n",
      "\n",
      " [[0.44313726 0.47058824 0.4392157 ]\n",
      "  [0.43529412 0.4627451  0.43529412]\n",
      "  [0.4117647  0.4392157  0.41568628]\n",
      "  ...\n",
      "  [0.28235295 0.31764707 0.3137255 ]\n",
      "  [0.28235295 0.3137255  0.30980393]\n",
      "  [0.28235295 0.3137255  0.30980393]]\n",
      "\n",
      " [[0.43529412 0.4627451  0.43137255]\n",
      "  [0.40784314 0.43529412 0.40784314]\n",
      "  [0.3882353  0.41568628 0.38431373]\n",
      "  ...\n",
      "  [0.26666668 0.29411766 0.28627452]\n",
      "  [0.27450982 0.29803923 0.29411766]\n",
      "  [0.30588236 0.32941177 0.32156864]]\n",
      "\n",
      " [[0.41568628 0.44313726 0.4117647 ]\n",
      "  [0.3882353  0.41568628 0.38431373]\n",
      "  [0.37254903 0.4        0.36862746]\n",
      "  ...\n",
      "  [0.30588236 0.33333334 0.3254902 ]\n",
      "  [0.30980393 0.33333334 0.3254902 ]\n",
      "  [0.3137255  0.3372549  0.32941177]]]\n"
     ]
    },
    {
     "data": {
      "image/png": "[encoded data removed]",
      "text/plain": [
       "<Figure size 432x288 with 1 Axes>"
      ]
     },
     "metadata": {
      "needs_background": "light"
     },
     "output_type": "display_data"
    },
    {
     "name": "stdout",
     "output_type": "stream",
     "text": [
      "Sample input image: [[[0.10980392 0.09803922 0.03921569]\n",
      "  [0.14509805 0.13333334 0.07450981]\n",
      "  [0.14901961 0.13725491 0.07843138]\n",
      "  ...\n",
      "  [0.29803923 0.2627451  0.15294118]\n",
      "  [0.31764707 0.28235295 0.16862746]\n",
      "  [0.33333334 0.29803923 0.18431373]]\n",
      "\n",
      " [[0.12941177 0.10980392 0.05098039]\n",
      "  [0.13333334 0.11764706 0.05490196]\n",
      "  [0.1254902  0.10588235 0.04705882]\n",
      "  ...\n",
      "  [0.37254903 0.32156864 0.21568628]\n",
      "  [0.3764706  0.32156864 0.21960784]\n",
      "  [0.33333334 0.28235295 0.1764706 ]]\n",
      "\n",
      " [[0.15294118 0.1254902  0.05882353]\n",
      "  [0.15686275 0.12941177 0.06666667]\n",
      "  [0.22352941 0.19607843 0.12941177]\n",
      "  ...\n",
      "  [0.3647059  0.29803923 0.20392157]\n",
      "  [0.41960785 0.34901962 0.25882354]\n",
      "  [0.37254903 0.3019608  0.21176471]]\n",
      "\n",
      " ...\n",
      "\n",
      " [[0.3254902  0.28627452 0.20392157]\n",
      "  [0.34117648 0.3019608  0.21960784]\n",
      "  [0.32941177 0.2901961  0.20392157]\n",
      "  ...\n",
      "  [0.3882353  0.3647059  0.27450982]\n",
      "  [0.3529412  0.32941177 0.23921569]\n",
      "  [0.31764707 0.29411766 0.20392157]]\n",
      "\n",
      " [[0.34509805 0.28235295 0.2       ]\n",
      "  [0.3529412  0.2901961  0.20392157]\n",
      "  [0.3647059  0.3019608  0.21960784]\n",
      "  ...\n",
      "  [0.3137255  0.2901961  0.20784314]\n",
      "  [0.29803923 0.27450982 0.19215687]\n",
      "  [0.32156864 0.29803923 0.21568628]]\n",
      "\n",
      " [[0.38039216 0.30588236 0.21960784]\n",
      "  [0.36862746 0.29411766 0.20784314]\n",
      "  [0.3647059  0.29411766 0.20784314]\n",
      "  ...\n",
      "  [0.21176471 0.18431373 0.10980392]\n",
      "  [0.24705882 0.21960784 0.14509805]\n",
      "  [0.28235295 0.25490198 0.18039216]]]\n"
     ]
    },
    {
     "data": {
      "image/png": "[encoded data removed]",
      "text/plain": [
       "<Figure size 432x288 with 1 Axes>"
      ]
     },
     "metadata": {
      "needs_background": "light"
     },
     "output_type": "display_data"
    }
   ],
   "source": [
    "# visualisation of the numerical vector and 2D colour plot of the sample CIFAR imnage 2\n",
    "Selected_Image = 2\n",
    "image = input_X_train[Selected_Image]\n",
    "print (\"Sample input image: \" + str(image))\n",
    "plt.imshow(image)\n",
    "plt.show() \n",
    "\n",
    "Selected_Image = 3\n",
    "image = input_X_train[Selected_Image]\n",
    "print (\"Sample input image: \" + str(image))\n",
    "plt.imshow(image)\n",
    "plt.show() \n",
    "\n",
    "\n",
    "\n"
   ]
  },
  {
   "cell_type": "markdown",
   "metadata": {
    "id": "rTUkz65eIpjx"
   },
   "source": [
    "**Simple CNN model definition**\n",
    "\n",
    "This code defines a simple CNN network.\n",
    "The model will learn 32 convolutional filters, each of a 3 x 3 size. The output dimension is the same one of the input shape, with a 32 x 32 filters (default stride of 1 is used). The activation function ReLU will be used. \n",
    "The network then has a max-pooling layer with pool size 2 x 2, and a dropout at 25%.\n",
    "\n",
    "The next level of depth has a dense layer with 512 units and ReLU activation, followed by a dropout at 50%.\n",
    "Finally, a softmax layer is used with 10 units/classes as output, i.e. one for each of the 10 classes of objects encoded with one-hot coding."
   ]
  },
  {
   "cell_type": "code",
   "execution_count": 6,
   "metadata": {
    "colab": {
     "base_uri": "https://localhost:8080/"
    },
    "id": "ZAWZ0UKzIpjz",
    "outputId": "2dccb2ca-7b79-4e6d-d155-0cf251e0bcd2"
   },
   "outputs": [
    {
     "name": "stdout",
     "output_type": "stream",
     "text": [
      "CNN network definition.\n"
     ]
    }
   ],
   "source": [
    "# network definition\n",
    "\n",
    "model = Sequential()\n",
    "model.add(Conv2D(32, (3, 3), padding='same', input_shape=(IMG_ROWS, IMG_COLS, IMG_CHANNELS)))\n",
    "model.add(Activation('relu'))\n",
    "model.add(MaxPooling2D(pool_size=(2, 2)))\n",
    "model.add(Dropout(0.25))\n",
    "  \n",
    "model.add(Flatten())\n",
    "model.add(Dense(512))\n",
    "model.add(Activation('relu'))\n",
    "model.add(Dropout(0.5))\n",
    "\n",
    "model.add(Dense(N_CLASSES))\n",
    "model.add(Activation('softmax'))\n",
    "\n",
    "print('CNN network definition.')"
   ]
  },
  {
   "cell_type": "markdown",
   "metadata": {
    "id": "M8B4dEyVIpj2"
   },
   "source": [
    "**Model compilation**\n",
    "\n",
    "This compiles the CNN model, and then shows its summary. \n"
   ]
  },
  {
   "cell_type": "code",
   "execution_count": 7,
   "metadata": {
    "colab": {
     "base_uri": "https://localhost:8080/"
    },
    "id": "rLrhT0HSIpj4",
    "outputId": "feaa2ef9-11af-4274-a5a5-4584e81b4569",
    "scrolled": true
   },
   "outputs": [
    {
     "name": "stdout",
     "output_type": "stream",
     "text": [
      "Model: \"sequential\"\n",
      "_________________________________________________________________\n",
      " Layer (type)                Output Shape              Param #   \n",
      "=================================================================\n",
      " conv2d (Conv2D)             (None, 32, 32, 32)        896       \n",
      "                                                                 \n",
      " activation (Activation)     (None, 32, 32, 32)        0         \n",
      "                                                                 \n",
      " max_pooling2d (MaxPooling2D  (None, 16, 16, 32)       0         \n",
      " )                                                               \n",
      "                                                                 \n",
      " dropout (Dropout)           (None, 16, 16, 32)        0         \n",
      "                                                                 \n",
      " flatten (Flatten)           (None, 8192)              0         \n",
      "                                                                 \n",
      " dense (Dense)               (None, 512)               4194816   \n",
      "                                                                 \n",
      " activation_1 (Activation)   (None, 512)               0         \n",
      "                                                                 \n",
      " dropout_1 (Dropout)         (None, 512)               0         \n",
      "                                                                 \n",
      " dense_1 (Dense)             (None, 10)                5130      \n",
      "                                                                 \n",
      " activation_2 (Activation)   (None, 10)                0         \n",
      "                                                                 \n",
      "=================================================================\n",
      "Total params: 4,200,842\n",
      "Trainable params: 4,200,842\n",
      "Non-trainable params: 0\n",
      "_________________________________________________________________\n"
     ]
    }
   ],
   "source": [
    "# compile the model\n",
    "model.compile(loss='categorical_crossentropy', optimizer=OPTIM, metrics=['accuracy'])\n",
    "\n",
    "model.summary()\n"
   ]
  },
  {
   "cell_type": "markdown",
   "metadata": {
    "id": "rAJPemJyIpj9"
   },
   "source": [
    "**Training of the CNN**\n",
    "\n",
    "This line of code trains the model, saving the results in the history variable.\n",
    "\n"
   ]
  },
  {
   "cell_type": "code",
   "execution_count": 8,
   "metadata": {
    "colab": {
     "base_uri": "https://localhost:8080/"
    },
    "id": "s9K5fqdXIpj-",
    "outputId": "d76c2448-a881-4625-b191-d097f29d2da2"
   },
   "outputs": [
    {
     "name": "stdout",
     "output_type": "stream",
     "text": [
      "Epoch 1/20\n"
     ]
    },
    {
     "name": "stderr",
     "output_type": "stream",
     "text": [
      "2024-04-13 23:19:50.843498: W tensorflow/tsl/platform/profile_utils/cpu_utils.cc:128] Failed to get CPU frequency: 0 Hz\n"
     ]
    },
    {
     "name": "stdout",
     "output_type": "stream",
     "text": [
      "313/313 [==============================] - 11s 34ms/step - loss: 1.7994 - accuracy: 0.3650 - val_loss: 1.4616 - val_accuracy: 0.4664\n",
      "Epoch 2/20\n",
      "313/313 [==============================] - 11s 34ms/step - loss: 1.4063 - accuracy: 0.4987 - val_loss: 1.2920 - val_accuracy: 0.5445\n",
      "Epoch 3/20\n",
      "313/313 [==============================] - 10s 33ms/step - loss: 1.2795 - accuracy: 0.5473 - val_loss: 1.2220 - val_accuracy: 0.5625\n",
      "Epoch 4/20\n",
      "313/313 [==============================] - 10s 33ms/step - loss: 1.1866 - accuracy: 0.5813 - val_loss: 1.1929 - val_accuracy: 0.5853\n",
      "Epoch 5/20\n",
      "313/313 [==============================] - 10s 33ms/step - loss: 1.1165 - accuracy: 0.6079 - val_loss: 1.1333 - val_accuracy: 0.5989\n",
      "Epoch 6/20\n",
      "313/313 [==============================] - 10s 33ms/step - loss: 1.0540 - accuracy: 0.6298 - val_loss: 1.0575 - val_accuracy: 0.6348\n",
      "Epoch 7/20\n",
      "313/313 [==============================] - 10s 33ms/step - loss: 1.0045 - accuracy: 0.6469 - val_loss: 1.1633 - val_accuracy: 0.6094\n",
      "Epoch 8/20\n",
      "313/313 [==============================] - 10s 34ms/step - loss: 0.9536 - accuracy: 0.6683 - val_loss: 1.0358 - val_accuracy: 0.6418\n",
      "Epoch 9/20\n",
      "313/313 [==============================] - 11s 34ms/step - loss: 0.9138 - accuracy: 0.6800 - val_loss: 1.1180 - val_accuracy: 0.6089\n",
      "Epoch 10/20\n",
      "313/313 [==============================] - 11s 34ms/step - loss: 0.8814 - accuracy: 0.6930 - val_loss: 1.0185 - val_accuracy: 0.6480\n",
      "Epoch 11/20\n",
      "313/313 [==============================] - 11s 35ms/step - loss: 0.8395 - accuracy: 0.7083 - val_loss: 1.0130 - val_accuracy: 0.6545\n",
      "Epoch 12/20\n",
      "313/313 [==============================] - 11s 35ms/step - loss: 0.8155 - accuracy: 0.7176 - val_loss: 1.0588 - val_accuracy: 0.6487\n",
      "Epoch 13/20\n",
      "313/313 [==============================] - 11s 35ms/step - loss: 0.7874 - accuracy: 0.7261 - val_loss: 1.0854 - val_accuracy: 0.6496\n",
      "Epoch 14/20\n",
      "313/313 [==============================] - 11s 35ms/step - loss: 0.7591 - accuracy: 0.7377 - val_loss: 1.0382 - val_accuracy: 0.6572\n",
      "Epoch 15/20\n",
      "313/313 [==============================] - 11s 34ms/step - loss: 0.7316 - accuracy: 0.7476 - val_loss: 1.0000 - val_accuracy: 0.6717\n",
      "Epoch 16/20\n",
      "313/313 [==============================] - 10s 33ms/step - loss: 0.7080 - accuracy: 0.7557 - val_loss: 1.1562 - val_accuracy: 0.6250\n",
      "Epoch 17/20\n",
      "313/313 [==============================] - 10s 33ms/step - loss: 0.6882 - accuracy: 0.7579 - val_loss: 1.1033 - val_accuracy: 0.6678\n",
      "Epoch 18/20\n",
      "313/313 [==============================] - 11s 34ms/step - loss: 0.6666 - accuracy: 0.7704 - val_loss: 1.0892 - val_accuracy: 0.6513\n",
      "Epoch 19/20\n",
      "313/313 [==============================] - 11s 34ms/step - loss: 0.6445 - accuracy: 0.7757 - val_loss: 1.0220 - val_accuracy: 0.6748\n",
      "Epoch 20/20\n",
      "313/313 [==============================] - 11s 34ms/step - loss: 0.6271 - accuracy: 0.7847 - val_loss: 1.0084 - val_accuracy: 0.6775\n"
     ]
    }
   ],
   "source": [
    "# training/fitting of the DNN model\n",
    "\n",
    "history = model.fit(input_X_train, output_Y_train, batch_size=BATCH_SIZE, epochs=20, validation_split=VALIDATION_SPLIT,  verbose=VERBOSE)\n"
   ]
  },
  {
   "cell_type": "markdown",
   "metadata": {
    "id": "7-kbN3RlIpkD"
   },
   "source": [
    "**Saving of the model and of the trained weights**\n",
    "\n",
    "This saves the model definition and the weights, after training.\n",
    "\n"
   ]
  },
  {
   "cell_type": "code",
   "execution_count": 9,
   "metadata": {
    "colab": {
     "base_uri": "https://localhost:8080/"
    },
    "id": "Z57S_sTRIpkF",
    "outputId": "72203aab-f064-473f-db85-5bfa788ad8f2"
   },
   "outputs": [
    {
     "name": "stdout",
     "output_type": "stream",
     "text": [
      "Files saved for model definition and for weights.\n"
     ]
    }
   ],
   "source": [
    "#save model in json format into a file\n",
    "model_json = model.to_json()\n",
    "open('cifar10_architecture.json', 'w').write(model_json)\n",
    "\n",
    "#save the trained weights\n",
    "model.save_weights('cifar10_weights.h5', overwrite=True)\n",
    "\n",
    "print('Files saved for model definition and for weights.')"
   ]
  },
  {
   "cell_type": "markdown",
   "metadata": {
    "id": "7GvXVkx1IpkJ"
   },
   "source": [
    "**Analysis of the results**\n",
    "\n",
    "This code generates the test scores, so we can visualise and inspect the model's peformance.\n",
    "\n",
    "It also plots the accuracy and loss values along the training timescale.\n"
   ]
  },
  {
   "cell_type": "code",
   "execution_count": 10,
   "metadata": {
    "colab": {
     "base_uri": "https://localhost:8080/",
     "height": 660
    },
    "id": "N2XtixmtIpkL",
    "outputId": "df3e643a-21f6-4518-fdac-58fa34c17c52"
   },
   "outputs": [
    {
     "name": "stdout",
     "output_type": "stream",
     "text": [
      "79/79 [==============================] - 1s 9ms/step - loss: 1.0053 - accuracy: 0.6753\n",
      "\n",
      "Test score/loss: 1.0053467750549316\n",
      "Test accuracy: 0.6753000020980835\n",
      "dict_keys(['loss', 'accuracy', 'val_loss', 'val_accuracy'])\n"
     ]
    },
    {
     "data": {
      "image/png": "[encoded data removed]",
      "text/plain": [
       "<Figure size 432x288 with 1 Axes>"
      ]
     },
     "metadata": {
      "needs_background": "light"
     },
     "output_type": "display_data"
    },
    {
     "data": {
      "image/png": "[encoded data removed]",
      "text/plain": [
       "<Figure size 432x288 with 1 Axes>"
      ]
     },
     "metadata": {
      "needs_background": "light"
     },
     "output_type": "display_data"
    }
   ],
   "source": [
    "#Testing\n",
    "score = model.evaluate(input_X_test, output_Y_test, batch_size=BATCH_SIZE, verbose=VERBOSE)\n",
    "print(\"\\nTest score/loss:\", score[0])\n",
    "print('Test accuracy:', score[1])\n",
    "\n",
    "# list all data in history\n",
    "print(history.history.keys())\n",
    "\n",
    "# summarize history for accuracy\n",
    "#plt.plot(mo)\n",
    "plt.plot(history.history['accuracy'])\n",
    "plt.plot(history.history['val_accuracy'])\n",
    "plt.title('model accuracy')\n",
    "plt.ylabel('accuracy')\n",
    "plt.xlabel('epoch')\n",
    "plt.legend(['train', 'test'], loc='upper left')\n",
    "plt.show()\n",
    "\n",
    "# summarize history for loss\n",
    "plt.plot(history.history['loss'])\n",
    "plt.plot(history.history['val_loss'])\n",
    "plt.title('model loss')\n",
    "plt.ylabel('loss')\n",
    "plt.xlabel('epoch')\n",
    "plt.legend(['train', 'test'], loc='upper left')\n",
    "plt.show()\n"
   ]
  },
  {
   "cell_type": "markdown",
   "metadata": {
    "id": "1o9i5nqDIpkO"
   },
   "source": [
    "A deeper CNN\n",
    "-------------\n",
    "\n",
    "To improve the performance of the network on the CIFAR-10 dataset, it is possible to use a deeper CNN, with a chain of multiple convolution and pooling layers.\n",
    "The following network will be used:\n",
    "\n",
    "conv+conv+maxpool+dropout+conv+conv+maxpool\n",
    "\n",
    "The final classification layers will use the standard:\n",
    "\n",
    "dense+dropout+dense\n",
    "\n",
    "All the layers will use the reLu function, except the final one with the Softmax function necessary for the categorical classification \n"
   ]
  },
  {
   "cell_type": "code",
   "execution_count": 11,
   "metadata": {
    "colab": {
     "base_uri": "https://localhost:8080/"
    },
    "id": "VmaK6n4AIpkP",
    "outputId": "72f4485b-572b-4989-b03e-07be8090c7c1"
   },
   "outputs": [
    {
     "name": "stdout",
     "output_type": "stream",
     "text": [
      "Model: \"sequential_1\"\n",
      "_________________________________________________________________\n",
      " Layer (type)                Output Shape              Param #   \n",
      "=================================================================\n",
      " conv2d_1 (Conv2D)           (None, 32, 32, 32)        896       \n",
      "                                                                 \n",
      " activation_3 (Activation)   (None, 32, 32, 32)        0         \n",
      "                                                                 \n",
      " conv2d_2 (Conv2D)           (None, 32, 32, 32)        9248      \n",
      "                                                                 \n",
      " activation_4 (Activation)   (None, 32, 32, 32)        0         \n",
      "                                                                 \n",
      " max_pooling2d_1 (MaxPooling  (None, 16, 16, 32)       0         \n",
      " 2D)                                                             \n",
      "                                                                 \n",
      " dropout_2 (Dropout)         (None, 16, 16, 32)        0         \n",
      "                                                                 \n",
      " conv2d_3 (Conv2D)           (None, 16, 16, 64)        18496     \n",
      "                                                                 \n",
      " activation_5 (Activation)   (None, 16, 16, 64)        0         \n",
      "                                                                 \n",
      " conv2d_4 (Conv2D)           (None, 5, 5, 64)          36928     \n",
      "                                                                 \n",
      " activation_6 (Activation)   (None, 5, 5, 64)          0         \n",
      "                                                                 \n",
      " max_pooling2d_2 (MaxPooling  (None, 2, 2, 64)         0         \n",
      " 2D)                                                             \n",
      "                                                                 \n",
      " dropout_3 (Dropout)         (None, 2, 2, 64)          0         \n",
      "                                                                 \n",
      " flatten_1 (Flatten)         (None, 256)               0         \n",
      "                                                                 \n",
      " dense_2 (Dense)             (None, 512)               131584    \n",
      "                                                                 \n",
      " activation_7 (Activation)   (None, 512)               0         \n",
      "                                                                 \n",
      " dropout_4 (Dropout)         (None, 512)               0         \n",
      "                                                                 \n",
      " dense_3 (Dense)             (None, 10)                5130      \n",
      "                                                                 \n",
      " activation_8 (Activation)   (None, 10)                0         \n",
      "                                                                 \n",
      "=================================================================\n",
      "Total params: 202,282\n",
      "Trainable params: 202,282\n",
      "Non-trainable params: 0\n",
      "_________________________________________________________________\n"
     ]
    }
   ],
   "source": [
    "# REUSE THE SAME INITIALISATION CODE AND THE TRAINING AND TEST DATA SET LOADING OPERATION\n",
    "\n",
    "N_EPOCH = 40 # 40 bigger network will benefit from extra training epochs\n",
    "\n",
    "# Complex DNN model definition\n",
    "model = Sequential()\n",
    " \n",
    "model.add(Conv2D(32, kernel_size=3, padding='same', input_shape=(IMG_ROWS, IMG_COLS, IMG_CHANNELS)))\n",
    "model.add(Activation('relu'))\n",
    "model.add(Conv2D(32, kernel_size=3, padding='same'))\n",
    "model.add(Activation('relu'))\n",
    "model.add(MaxPooling2D(pool_size=(2, 2)))\n",
    "model.add(Dropout(0.25))\n",
    " \n",
    "model.add(Conv2D(64, kernel_size=3, padding='same'))\n",
    "model.add(Activation('relu'))\n",
    "model.add(Conv2D(64, 3, 3))\n",
    "model.add(Activation('relu'))\n",
    "model.add(MaxPooling2D(pool_size=(2, 2)))\n",
    "model.add(Dropout(0.25))\n",
    " \n",
    "model.add(Flatten())\n",
    "model.add(Dense(512))\n",
    "model.add(Activation('relu'))\n",
    "model.add(Dropout(0.5))\n",
    "model.add(Dense(N_CLASSES))\n",
    "model.add(Activation('softmax'))\n",
    "\n",
    "\n",
    "#optim = SGD(lr=0.01, decay=1e-6, momentum=0.9, nesterov=True)\n",
    "model.compile(loss='categorical_crossentropy', optimizer=OPTIM, metrics=['accuracy'])\n",
    "\n",
    "model.summary()\n",
    " \n"
   ]
  },
  {
   "cell_type": "markdown",
   "metadata": {
    "id": "N_WU_cUNkmr-"
   },
   "source": [
    "**Training of the deeper CNN**\n",
    "\n",
    "Let's train (fit) this new model.\n",
    "\n"
   ]
  },
  {
   "cell_type": "code",
   "execution_count": 12,
   "metadata": {
    "colab": {
     "base_uri": "https://localhost:8080/"
    },
    "id": "ctRJSHkVkmr_",
    "outputId": "c00b1c5f-28e7-43aa-cc3c-0384b01ad3a1"
   },
   "outputs": [
    {
     "name": "stdout",
     "output_type": "stream",
     "text": [
      "Epoch 1/40\n",
      "313/313 [==============================] - 24s 75ms/step - loss: 1.9841 - accuracy: 0.2597 - val_loss: 1.7570 - val_accuracy: 0.3349\n",
      "Epoch 2/40\n",
      "313/313 [==============================] - 24s 76ms/step - loss: 1.6679 - accuracy: 0.3837 - val_loss: 1.6484 - val_accuracy: 0.4140\n",
      "Epoch 3/40\n",
      "313/313 [==============================] - 26s 82ms/step - loss: 1.5163 - accuracy: 0.4484 - val_loss: 1.3737 - val_accuracy: 0.5040\n",
      "Epoch 4/40\n",
      "313/313 [==============================] - 25s 80ms/step - loss: 1.4005 - accuracy: 0.4936 - val_loss: 1.3579 - val_accuracy: 0.5078\n",
      "Epoch 5/40\n",
      "313/313 [==============================] - 25s 80ms/step - loss: 1.3250 - accuracy: 0.5219 - val_loss: 1.2344 - val_accuracy: 0.5621\n",
      "Epoch 6/40\n",
      "313/313 [==============================] - 29s 94ms/step - loss: 1.2597 - accuracy: 0.5486 - val_loss: 1.1772 - val_accuracy: 0.5766\n",
      "Epoch 7/40\n",
      "313/313 [==============================] - 25s 81ms/step - loss: 1.1944 - accuracy: 0.5735 - val_loss: 1.1150 - val_accuracy: 0.6069\n",
      "Epoch 8/40\n",
      "313/313 [==============================] - 25s 80ms/step - loss: 1.1460 - accuracy: 0.5929 - val_loss: 1.0347 - val_accuracy: 0.6374\n",
      "Epoch 9/40\n",
      "313/313 [==============================] - 23s 74ms/step - loss: 1.1070 - accuracy: 0.6074 - val_loss: 0.9744 - val_accuracy: 0.6587\n",
      "Epoch 10/40\n",
      "313/313 [==============================] - 23s 74ms/step - loss: 1.0654 - accuracy: 0.6246 - val_loss: 1.0914 - val_accuracy: 0.6151\n",
      "Epoch 11/40\n",
      "313/313 [==============================] - 24s 75ms/step - loss: 1.0324 - accuracy: 0.6365 - val_loss: 0.9919 - val_accuracy: 0.6468\n",
      "Epoch 12/40\n",
      "313/313 [==============================] - 24s 75ms/step - loss: 1.0048 - accuracy: 0.6452 - val_loss: 0.9319 - val_accuracy: 0.6751\n",
      "Epoch 13/40\n",
      "313/313 [==============================] - 24s 76ms/step - loss: 0.9765 - accuracy: 0.6573 - val_loss: 0.9829 - val_accuracy: 0.6517\n",
      "Epoch 14/40\n",
      "313/313 [==============================] - 24s 77ms/step - loss: 0.9534 - accuracy: 0.6648 - val_loss: 1.0327 - val_accuracy: 0.6478\n",
      "Epoch 15/40\n",
      "313/313 [==============================] - 24s 77ms/step - loss: 0.9337 - accuracy: 0.6726 - val_loss: 0.8540 - val_accuracy: 0.7019\n",
      "Epoch 16/40\n",
      "313/313 [==============================] - 24s 78ms/step - loss: 0.9140 - accuracy: 0.6783 - val_loss: 0.9463 - val_accuracy: 0.6659\n",
      "Epoch 17/40\n",
      "313/313 [==============================] - 24s 77ms/step - loss: 0.8957 - accuracy: 0.6841 - val_loss: 0.8975 - val_accuracy: 0.6909\n",
      "Epoch 18/40\n",
      "313/313 [==============================] - 23s 74ms/step - loss: 0.8810 - accuracy: 0.6889 - val_loss: 0.8298 - val_accuracy: 0.7126\n",
      "Epoch 19/40\n",
      "313/313 [==============================] - 23s 74ms/step - loss: 0.8681 - accuracy: 0.6941 - val_loss: 0.9481 - val_accuracy: 0.6791\n",
      "Epoch 20/40\n",
      "313/313 [==============================] - 23s 74ms/step - loss: 0.8578 - accuracy: 0.6987 - val_loss: 0.8352 - val_accuracy: 0.7124\n",
      "Epoch 21/40\n",
      "313/313 [==============================] - 23s 74ms/step - loss: 0.8446 - accuracy: 0.7060 - val_loss: 0.8819 - val_accuracy: 0.7018\n",
      "Epoch 22/40\n",
      "313/313 [==============================] - 23s 74ms/step - loss: 0.8307 - accuracy: 0.7076 - val_loss: 0.9734 - val_accuracy: 0.6735\n",
      "Epoch 23/40\n",
      "313/313 [==============================] - 23s 74ms/step - loss: 0.8251 - accuracy: 0.7097 - val_loss: 0.8457 - val_accuracy: 0.7046\n",
      "Epoch 24/40\n",
      "313/313 [==============================] - 23s 74ms/step - loss: 0.8109 - accuracy: 0.7140 - val_loss: 0.7913 - val_accuracy: 0.7319\n",
      "Epoch 25/40\n",
      "313/313 [==============================] - 23s 74ms/step - loss: 0.8095 - accuracy: 0.7150 - val_loss: 0.7895 - val_accuracy: 0.7278\n",
      "Epoch 26/40\n",
      "313/313 [==============================] - 23s 74ms/step - loss: 0.7991 - accuracy: 0.7188 - val_loss: 0.7978 - val_accuracy: 0.7254\n",
      "Epoch 27/40\n",
      "313/313 [==============================] - 23s 74ms/step - loss: 0.7925 - accuracy: 0.7229 - val_loss: 0.7928 - val_accuracy: 0.7326\n",
      "Epoch 28/40\n",
      "313/313 [==============================] - 23s 74ms/step - loss: 0.7833 - accuracy: 0.7234 - val_loss: 0.7900 - val_accuracy: 0.7299\n",
      "Epoch 29/40\n",
      "313/313 [==============================] - 23s 74ms/step - loss: 0.7765 - accuracy: 0.7278 - val_loss: 0.8851 - val_accuracy: 0.7055\n",
      "Epoch 30/40\n",
      "313/313 [==============================] - 23s 74ms/step - loss: 0.7673 - accuracy: 0.7340 - val_loss: 0.8293 - val_accuracy: 0.7158\n",
      "Epoch 31/40\n",
      "313/313 [==============================] - 23s 74ms/step - loss: 0.7635 - accuracy: 0.7306 - val_loss: 0.8099 - val_accuracy: 0.7232\n",
      "Epoch 32/40\n",
      "313/313 [==============================] - 23s 74ms/step - loss: 0.7628 - accuracy: 0.7301 - val_loss: 0.8272 - val_accuracy: 0.7172\n",
      "Epoch 33/40\n",
      "313/313 [==============================] - 23s 74ms/step - loss: 0.7523 - accuracy: 0.7352 - val_loss: 0.8108 - val_accuracy: 0.7323\n",
      "Epoch 34/40\n",
      "313/313 [==============================] - 23s 74ms/step - loss: 0.7521 - accuracy: 0.7388 - val_loss: 0.8020 - val_accuracy: 0.7350\n",
      "Epoch 35/40\n",
      "313/313 [==============================] - 23s 74ms/step - loss: 0.7470 - accuracy: 0.7388 - val_loss: 0.8320 - val_accuracy: 0.7222\n",
      "Epoch 36/40\n",
      "313/313 [==============================] - 23s 73ms/step - loss: 0.7432 - accuracy: 0.7421 - val_loss: 0.7977 - val_accuracy: 0.7244\n",
      "Epoch 37/40\n",
      "313/313 [==============================] - 23s 73ms/step - loss: 0.7379 - accuracy: 0.7444 - val_loss: 0.8391 - val_accuracy: 0.7201\n",
      "Epoch 38/40\n",
      "313/313 [==============================] - 23s 74ms/step - loss: 0.7380 - accuracy: 0.7424 - val_loss: 0.8319 - val_accuracy: 0.7256\n",
      "Epoch 39/40\n",
      "313/313 [==============================] - 23s 74ms/step - loss: 0.7345 - accuracy: 0.7445 - val_loss: 0.8088 - val_accuracy: 0.7257\n",
      "Epoch 40/40\n",
      "313/313 [==============================] - 23s 74ms/step - loss: 0.7351 - accuracy: 0.7444 - val_loss: 0.8163 - val_accuracy: 0.7257\n"
     ]
    }
   ],
   "source": [
    "# training/fitting of the complex DNN model \n",
    "history = model.fit(input_X_train, output_Y_train, batch_size=BATCH_SIZE, epochs=N_EPOCH, validation_split=VALIDATION_SPLIT,  verbose=VERBOSE)\n"
   ]
  },
  {
   "cell_type": "markdown",
   "metadata": {
    "id": "hhkax6pXIpkT"
   },
   "source": [
    "**Analysis of the Deeper CNN results**\n",
    "\n",
    "This generates the test scores and plots for the new, deeper DNN.\n"
   ]
  },
  {
   "cell_type": "code",
   "execution_count": 13,
   "metadata": {
    "colab": {
     "base_uri": "https://localhost:8080/",
     "height": 660
    },
    "id": "FfRvK-lUIpkU",
    "outputId": "f08bcd89-00a2-4b1a-c514-0ba83410ca33"
   },
   "outputs": [
    {
     "name": "stdout",
     "output_type": "stream",
     "text": [
      "79/79 [==============================] - 2s 20ms/step - loss: 0.8333 - accuracy: 0.7180\n",
      "\n",
      "Test score/loss: 0.8333285450935364\n",
      "Test accuracy: 0.7179999947547913\n",
      "dict_keys(['loss', 'accuracy', 'val_loss', 'val_accuracy'])\n"
     ]
    },
    {
     "data": {
      "image/png": "[encoded data removed]",
      "text/plain": [
       "<Figure size 432x288 with 1 Axes>"
      ]
     },
     "metadata": {
      "needs_background": "light"
     },
     "output_type": "display_data"
    },
    {
     "data": {
      "image/png": "[encoded data removed]",
      "text/plain": [
       "<Figure size 432x288 with 1 Axes>"
      ]
     },
     "metadata": {
      "needs_background": "light"
     },
     "output_type": "display_data"
    }
   ],
   "source": [
    "#Testing\n",
    "score = model.evaluate(input_X_test, output_Y_test, batch_size=BATCH_SIZE, verbose=VERBOSE)\n",
    "print(\"\\nTest score/loss:\", score[0])\n",
    "print('Test accuracy:', score[1])\n",
    "\n",
    "# list all data in history\n",
    "print(history.history.keys())\n",
    "\n",
    "# summarize history for accuracy\n",
    "#plt.plot(mo)\n",
    "plt.plot(history.history['accuracy'])\n",
    "plt.plot(history.history['val_accuracy'])\n",
    "plt.title('model accuracy')\n",
    "plt.ylabel('accuracy')\n",
    "plt.xlabel('epoch')\n",
    "plt.legend(['train', 'test'], loc='upper left')\n",
    "plt.show()\n",
    "\n",
    "# summarize history for loss\n",
    "plt.plot(history.history['loss'])\n",
    "plt.plot(history.history['val_loss'])\n",
    "plt.title('model loss')\n",
    "plt.ylabel('loss')\n",
    "plt.xlabel('epoch')\n",
    "plt.legend(['train', 'test'], loc='upper left')\n",
    "plt.show()"
   ]
  },
  {
   "cell_type": "markdown",
   "metadata": {
    "id": "v-Mzs-L7IpkZ"
   },
   "source": [
    "Data Augmentation\n",
    "-------------\n",
    "\n",
    "To further improve the performance of the model, it is advisable to use a larger training set, to expose the network to more variations of the images.\n",
    "One way to achieve this, without having to collect new images from the real world, is to __augment__ the existing images with multiple types of transformations of the dataset stimuli. This can include rotation of the image, rescaling, horizontal/vertical flip, zooming, channel shift, etc.\n",
    "\n",
    "Below is an example of the code that augments the current datase.\n",
    "\n",
    "\n"
   ]
  },
  {
   "cell_type": "code",
   "execution_count": 14,
   "metadata": {
    "colab": {
     "base_uri": "https://localhost:8080/"
    },
    "id": "-85_nYLXIpkZ",
    "outputId": "5a395f4a-4765-4dbc-ee9b-e7df04a05705"
   },
   "outputs": [
    {
     "name": "stdout",
     "output_type": "stream",
     "text": [
      "Augmenting training set images...\n"
     ]
    }
   ],
   "source": [
    "from tensorflow.keras.preprocessing.image import ImageDataGenerator\n",
    "#from keras.datasets import cifar10\n",
    "\n",
    "#load dataset\n",
    "#(input_X_train, output_y_train), (input_X_test, output_y_test) = cifar10.load_data()\n",
    "\n",
    "# augumenting\n",
    "print(\"Augmenting training set images...\")\n",
    "    \n",
    "datagen = ImageDataGenerator(\n",
    "   rotation_range=40,\n",
    "   width_shift_range=0.2,\n",
    "   height_shift_range=0.2,\n",
    "   zoom_range=0.2,\n",
    "   horizontal_flip=True,\n",
    "   fill_mode='nearest')\n",
    "\n",
    "# rotation_range is a value in degrees (0 - 180) for randomly rotating pictures\n",
    "# width_shift and height_shift are ranges for randomly translating pictures vertically or horizontally\n",
    "# zoom_range is for randomly zooming pictures \n",
    "# horizontal_flip is for randomly flipping the images horizontally\n",
    "# fill_mode fills in new pixels that can appear after a rotation or a shift\n"
   ]
  },
  {
   "cell_type": "markdown",
   "metadata": {
    "id": "yWIpifR4Ipkc"
   },
   "source": [
    "__Training with augmented data__\n",
    "\n",
    "The function below used the dynamic generation of the augmented data during the training (just in time)."
   ]
  },
  {
   "cell_type": "code",
   "execution_count": 21,
   "metadata": {
    "colab": {
     "base_uri": "https://localhost:8080/"
    },
    "id": "kd_JgZM9Ipkd",
    "outputId": "a1ba44e7-87da-40a8-8aee-6fdcb702bf00"
   },
   "outputs": [
    {
     "name": "stdout",
     "output_type": "stream",
     "text": [
      "Epoch 1/40\n"
     ]
    },
    {
     "name": "stderr",
     "output_type": "stream",
     "text": [
      "/var/folders/44/vjf0_prs36jgzwlpyrdqlvcr0000gn/T/ipykernel_2774/3979763547.py:6: UserWarning: `Model.fit_generator` is deprecated and will be removed in a future version. Please use `Model.fit`, which supports generators.\n",
      "  history = model.fit_generator(datagen.flow(input_X_train, output_Y_train, batch_size=BATCH_SIZE), steps_per_epoch=input_X_train.shape[0]//BATCH_SIZE, epochs=N_EPOCH, verbose=VERBOSE)\n"
     ]
    },
    {
     "name": "stdout",
     "output_type": "stream",
     "text": [
      "390/390 [==============================] - 31s 77ms/step - loss: 1.9471 - accuracy: 0.2763\n",
      "Epoch 2/40\n",
      "390/390 [==============================] - 30s 78ms/step - loss: 1.6581 - accuracy: 0.3875\n",
      "Epoch 3/40\n",
      "390/390 [==============================] - 30s 77ms/step - loss: 1.5221 - accuracy: 0.4402\n",
      "Epoch 4/40\n",
      "390/390 [==============================] - 31s 79ms/step - loss: 1.4351 - accuracy: 0.4786\n",
      "Epoch 5/40\n",
      "390/390 [==============================] - 30s 77ms/step - loss: 1.3589 - accuracy: 0.5109\n",
      "Epoch 6/40\n",
      "390/390 [==============================] - 30s 78ms/step - loss: 1.3088 - accuracy: 0.5305\n",
      "Epoch 7/40\n",
      "390/390 [==============================] - 30s 77ms/step - loss: 1.2627 - accuracy: 0.5472\n",
      "Epoch 8/40\n",
      "390/390 [==============================] - 31s 80ms/step - loss: 1.2289 - accuracy: 0.5641\n",
      "Epoch 9/40\n",
      "390/390 [==============================] - 30s 76ms/step - loss: 1.2005 - accuracy: 0.5749\n",
      "Epoch 10/40\n",
      "390/390 [==============================] - 30s 77ms/step - loss: 1.1636 - accuracy: 0.5885\n",
      "Epoch 11/40\n",
      "390/390 [==============================] - 31s 78ms/step - loss: 1.1408 - accuracy: 0.5986\n",
      "Epoch 12/40\n",
      "390/390 [==============================] - 34s 88ms/step - loss: 1.1208 - accuracy: 0.6035\n",
      "Epoch 13/40\n",
      "390/390 [==============================] - 33s 84ms/step - loss: 1.0958 - accuracy: 0.6134\n",
      "Epoch 14/40\n",
      "390/390 [==============================] - 34s 86ms/step - loss: 1.0845 - accuracy: 0.6193\n",
      "Epoch 15/40\n",
      "390/390 [==============================] - 32s 81ms/step - loss: 1.0672 - accuracy: 0.6256\n",
      "Epoch 16/40\n",
      "390/390 [==============================] - 31s 79ms/step - loss: 1.0544 - accuracy: 0.6312\n",
      "Epoch 17/40\n",
      "390/390 [==============================] - 30s 76ms/step - loss: 1.0490 - accuracy: 0.6348\n",
      "Epoch 18/40\n",
      "390/390 [==============================] - 31s 79ms/step - loss: 1.0272 - accuracy: 0.6418\n",
      "Epoch 19/40\n",
      "390/390 [==============================] - 31s 80ms/step - loss: 1.0184 - accuracy: 0.6435\n",
      "Epoch 20/40\n",
      "390/390 [==============================] - 30s 77ms/step - loss: 1.0138 - accuracy: 0.6464\n",
      "Epoch 21/40\n",
      "390/390 [==============================] - 28s 73ms/step - loss: 1.0052 - accuracy: 0.6494\n",
      "Epoch 22/40\n",
      "390/390 [==============================] - 28s 73ms/step - loss: 0.9960 - accuracy: 0.6538\n",
      "Epoch 23/40\n",
      "390/390 [==============================] - 28s 73ms/step - loss: 0.9906 - accuracy: 0.6561\n",
      "Epoch 24/40\n",
      "390/390 [==============================] - 28s 72ms/step - loss: 0.9894 - accuracy: 0.6591\n",
      "Epoch 25/40\n",
      "390/390 [==============================] - 28s 72ms/step - loss: 0.9770 - accuracy: 0.6610\n",
      "Epoch 26/40\n",
      "390/390 [==============================] - 28s 73ms/step - loss: 0.9714 - accuracy: 0.6632\n",
      "Epoch 27/40\n",
      "390/390 [==============================] - 29s 73ms/step - loss: 0.9724 - accuracy: 0.6644\n",
      "Epoch 28/40\n",
      "390/390 [==============================] - 29s 73ms/step - loss: 0.9646 - accuracy: 0.6649\n",
      "Epoch 29/40\n",
      "390/390 [==============================] - 29s 73ms/step - loss: 0.9626 - accuracy: 0.6668\n",
      "Epoch 30/40\n",
      "390/390 [==============================] - 28s 73ms/step - loss: 0.9705 - accuracy: 0.6662\n",
      "Epoch 31/40\n",
      "390/390 [==============================] - 29s 73ms/step - loss: 0.9537 - accuracy: 0.6694\n",
      "Epoch 32/40\n",
      "390/390 [==============================] - 29s 74ms/step - loss: 0.9482 - accuracy: 0.6710\n",
      "Epoch 33/40\n",
      "390/390 [==============================] - 29s 74ms/step - loss: 0.9481 - accuracy: 0.6743\n",
      "Epoch 34/40\n",
      "390/390 [==============================] - 29s 75ms/step - loss: 0.9501 - accuracy: 0.6741\n",
      "Epoch 35/40\n",
      "390/390 [==============================] - 29s 74ms/step - loss: 0.9461 - accuracy: 0.6773\n",
      "Epoch 36/40\n",
      "390/390 [==============================] - 29s 74ms/step - loss: 0.9482 - accuracy: 0.6740\n",
      "Epoch 37/40\n",
      "390/390 [==============================] - 29s 75ms/step - loss: 0.9487 - accuracy: 0.6765\n",
      "Epoch 38/40\n",
      "390/390 [==============================] - 29s 75ms/step - loss: 0.9401 - accuracy: 0.6775\n",
      "Epoch 39/40\n",
      "390/390 [==============================] - 29s 75ms/step - loss: 0.9377 - accuracy: 0.6802\n",
      "Epoch 40/40\n",
      "390/390 [==============================] - 29s 75ms/step - loss: 0.9398 - accuracy: 0.6789\n"
     ]
    }
   ],
   "source": [
    "\n",
    "#fit the dataset\n",
    "datagen.fit(input_X_train)\n",
    "\n",
    "\n",
    "# train by fitting the model on batches with real-time data augmentation\n",
    "history = model.fit_generator(datagen.flow(input_X_train, output_Y_train, batch_size=BATCH_SIZE), steps_per_epoch=input_X_train.shape[0]//BATCH_SIZE, epochs=N_EPOCH, verbose=VERBOSE)\n",
    "\n"
   ]
  },
  {
   "cell_type": "markdown",
   "metadata": {
    "id": "Y0ZLORlPIpkh"
   },
   "source": [
    "**Analysis of the Data Augmented, Deeper CNN results**\n",
    "\n",
    "This generates the test scores and plots for the deeper DNN trained on the augmented data."
   ]
  },
  {
   "cell_type": "code",
   "execution_count": 20,
   "metadata": {
    "colab": {
     "base_uri": "https://localhost:8080/",
     "height": 660
    },
    "id": "BxZG9aM2Ipki",
    "outputId": "f933118e-27aa-4a70-ac96-e2313d2e435a"
   },
   "outputs": [
    {
     "name": "stdout",
     "output_type": "stream",
     "text": [
      "79/79 [==============================] - 2s 20ms/step - loss: 2.3029 - accuracy: 0.0977\n",
      "\n",
      "Test score/loss: 2.3028817176818848\n",
      "Test accuracy: 0.09769999980926514\n",
      "dict_keys(['loss', 'accuracy'])\n"
     ]
    },
    {
     "data": {
      "image/png": "[encoded data removed]",
      "text/plain": [
       "<Figure size 432x288 with 1 Axes>"
      ]
     },
     "metadata": {
      "needs_background": "light"
     },
     "output_type": "display_data"
    },
    {
     "data": {
      "image/png": "[encoded data removed]",
      "text/plain": [
       "<Figure size 432x288 with 1 Axes>"
      ]
     },
     "metadata": {
      "needs_background": "light"
     },
     "output_type": "display_data"
    }
   ],
   "source": [
    "#Testing\n",
    "score = model.evaluate(input_X_test, output_Y_test, batch_size=BATCH_SIZE, verbose=VERBOSE)\n",
    "print(\"\\nTest score/loss:\", score[0])\n",
    "print('Test accuracy:', score[1])\n",
    "\n",
    "# list all data in history\n",
    "print(history.history.keys())\n",
    "\n",
    "# summarize history for accuracy\n",
    "#plt.plot(mo)\n",
    "plt.plot(history.history['accuracy'])\n",
    "plt.title('model accuracy')\n",
    "plt.ylabel('accuracy')\n",
    "plt.xlabel('epoch')\n",
    "plt.legend(['train', 'test'], loc='upper left')\n",
    "plt.show()\n",
    "\n",
    "# summarize history for loss\n",
    "plt.plot(history.history['loss'])\n",
    "plt.title('model loss')\n",
    "plt.ylabel('loss')\n",
    "plt.xlabel('epoch')\n",
    "plt.legend(['train', 'test'], loc='upper left')\n",
    "plt.show()\n",
    "\n"
   ]
  },
  {
   "cell_type": "markdown",
   "metadata": {
    "id": "4Bwi-kLYIpkl"
   },
   "source": [
    "Below is a commented different example of a data augmentation approach. \n",
    "\n",
    "But we have carried out plenty of slow, long simulations for this class, and we can stop here."
   ]
  },
  {
   "cell_type": "code",
   "execution_count": 17,
   "metadata": {
    "id": "q_JAWfc4Ipkm"
   },
   "outputs": [],
   "source": [
    "\n",
    "from tensorflow.keras.preprocessing.image import ImageDataGenerator\n",
    "\n",
    "datagen = ImageDataGenerator(\n",
    "        featurewise_center=False,  # set input mean to 0 over the dataset\n",
    "        samplewise_center=False,  # set each sample mean to 0\n",
    "        featurewise_std_normalization=False,  # divide inputs by std of the dataset\n",
    "        samplewise_std_normalization=False,  # divide each input by its std\n",
    "        zca_whitening=False,  # apply ZCA whitening\n",
    "        rotation_range=0,  # randomly rotate images in the range (degrees, 0 to 180)\n",
    "        width_shift_range=0.1,  # randomly shift images horizontally (fraction of total width)\n",
    "        height_shift_range=0.1,  # randomly shift images vertically (fraction of total height)\n",
    "        horizontal_flip=True,  # randomly flip images\n",
    "        vertical_flip=False)  # randomly flip images\n",
    "\n",
    "datagen.fit(input_X_train)"
   ]
  },
  {
   "cell_type": "markdown",
   "metadata": {
    "id": "ouCjBST_Ipkq"
   },
   "source": [
    "Conclusions\n",
    "-------------\n",
    "\n",
    "Today we learned to train more complex DNNs, and to use data augmentation to further improve the network training and performance.\n",
    "\n",
    "**Copyright (c)** 2022 Angelo Cangelosi, MIT License. Code and examples adapted from Gulli & Pal (2017) Deep Learning with Kera. Punkt Publishing. With support from Wenjie Huang."
   ]
  }
 ],
 "metadata": {
  "accelerator": "GPU",
  "colab": {
   "provenance": []
  },
  "kernelspec": {
   "display_name": "Python 3 (ipykernel)",
   "language": "python",
   "name": "python3"
  },
  "language_info": {
   "codemirror_mode": {
    "name": "ipython",
    "version": 3
   },
   "file_extension": ".py",
   "mimetype": "text/x-python",
   "name": "python",
   "nbconvert_exporter": "python",
   "pygments_lexer": "ipython3",
   "version": "3.9.12"
  }
 },
 "nbformat": 4,
 "nbformat_minor": 1
}
