{
 "cells": [
  {
   "cell_type": "markdown",
   "metadata": {
    "id": "m_SLMzgGIpjE"
   },
   "source": [
    "Experiment of Convolutional Neural Networks (CNNs) with CIFAR-10 dataset\n",
    "=========\n"
   ]
  },
  {
   "cell_type": "markdown",
   "metadata": {
    "id": "XSw16YYkIpjK"
   },
   "source": [
    "**Initialisation of the program**\n",
    "\n",
    "The program starts with the importing of typical Keras and other Python service modules. "
   ]
  },
  {
   "cell_type": "code",
   "execution_count": 99,
   "metadata": {
    "colab": {
     "base_uri": "https://localhost:8080/"
    },
    "id": "x595vK3pIpjN",
    "outputId": "422206db-2d3f-4bd4-d07c-b205eb6007ec"
   },
   "outputs": [],
   "source": [
    "# importing of modules for CIFAR-10 CNN \n",
    "from tensorflow.keras.datasets import cifar10\n",
    "from tensorflow.keras import utils\n",
    "from tensorflow.keras.models import Sequential\n",
    "from tensorflow.keras.layers import Dense, Dropout, Activation, Flatten, BatchNormalization\n",
    "from tensorflow.keras.layers import Conv2D, MaxPooling2D\n",
    "from tensorflow.keras.optimizers.legacy import SGD, Adam, RMSprop\n",
    "\n",
    "# importing of service libraries\n",
    "import numpy as np\n",
    "import matplotlib.pyplot as plt"
   ]
  },
  {
   "cell_type": "markdown",
   "metadata": {
    "id": "Wx5--x5hIpjV"
   },
   "source": [
    "The following constant and variable definitions are needed for the network and training parameters.\n"
   ]
  },
  {
   "cell_type": "code",
   "execution_count": 100,
   "metadata": {
    "colab": {
     "base_uri": "https://localhost:8080/"
    },
    "id": "O1SvoRcMIpjX",
    "outputId": "51831c4b-8f85-4570-ee52-326ed271a935"
   },
   "outputs": [],
   "source": [
    "#training constants\n",
    "BATCH_SIZE = 128\n",
    "N_EPOCH = 20 \n",
    "N_CLASSES = 10\n",
    "VERBOSE = 1\n",
    "VALIDATION_SPLIT = 0.2\n",
    "OPTIM = RMSprop()"
   ]
  },
  {
   "cell_type": "markdown",
   "metadata": {
    "id": "KpuekS__Ipjd"
   },
   "source": [
    "Constant definition for the training set images"
   ]
  },
  {
   "cell_type": "code",
   "execution_count": 101,
   "metadata": {
    "colab": {
     "base_uri": "https://localhost:8080/"
    },
    "id": "DWaibn5BIpje",
    "outputId": "c1855f56-e2f6-445c-9ec9-59b638dd6d1f"
   },
   "outputs": [],
   "source": [
    "# CIFAR_10 is a set of 60K images 32x32 pixels on 3 channels\n",
    "IMG_CHANNELS = 3\n",
    "IMG_ROWS = 32\n",
    "IMG_COLS = 32"
   ]
  },
  {
   "cell_type": "markdown",
   "metadata": {
    "id": "QcOhLgJ8Ipjk"
   },
   "source": [
    "__CIFAR-10 data loading and processing__\n",
    "\n",
    "Loading and preparation of the CIFAR-10 training set."
   ]
  },
  {
   "cell_type": "code",
   "execution_count": 102,
   "metadata": {
    "colab": {
     "base_uri": "https://localhost:8080/"
    },
    "id": "uVzGwn80Ipjm",
    "outputId": "b5c2f64e-2821-4813-af77-ef63090b1887"
   },
   "outputs": [],
   "source": [
    "#load dataset\n",
    "(input_X_train, output_y_train), (input_X_test, output_y_test) = cifar10.load_data()\n",
    " \n",
    "# convert to categorical\n",
    "output_Y_train = utils.to_categorical(output_y_train, N_CLASSES)\n",
    "output_Y_test = utils.to_categorical(output_y_test, N_CLASSES) \n",
    "\n",
    "# float and normalization\n",
    "input_X_train = input_X_train.astype('float32')\n",
    "input_X_test = input_X_test.astype('float32')\n",
    "input_X_train /= 255\n",
    "input_X_test /= 255"
   ]
  },
  {
   "cell_type": "markdown",
   "metadata": {
    "id": "f6_L0SrmIpjr"
   },
   "source": [
    "**Visualisation of two sample CIFAR-10 images**\n",
    "\n",
    "Here we will visualise two sample images from the dataset."
   ]
  },
  {
   "cell_type": "code",
   "execution_count": 103,
   "metadata": {
    "colab": {
     "base_uri": "https://localhost:8080/",
     "height": 1000
    },
    "id": "U2gu1BhgIpjs",
    "outputId": "5eb14947-6d18-460e-a3ee-d359681bbd1b"
   },
   "outputs": [
    {
     "name": "stdout",
     "output_type": "stream",
     "text": [
      "Sample input image: [[[1.         1.         1.        ]\n",
      "  [0.99215686 0.99215686 0.99215686]\n",
      "  [0.99215686 0.99215686 0.99215686]\n",
      "  ...\n",
      "  [0.99215686 0.99215686 0.99215686]\n",
      "  [0.99215686 0.99215686 0.99215686]\n",
      "  [0.99215686 0.99215686 0.99215686]]\n",
      "\n",
      " [[1.         1.         1.        ]\n",
      "  [1.         1.         1.        ]\n",
      "  [1.         1.         1.        ]\n",
      "  ...\n",
      "  [1.         1.         1.        ]\n",
      "  [1.         1.         1.        ]\n",
      "  [1.         1.         1.        ]]\n",
      "\n",
      " [[1.         1.         1.        ]\n",
      "  [0.99607843 0.99607843 0.99607843]\n",
      "  [0.99607843 0.99607843 0.99607843]\n",
      "  ...\n",
      "  [0.99607843 0.99607843 0.99607843]\n",
      "  [0.99607843 0.99607843 0.99607843]\n",
      "  [0.99607843 0.99607843 0.99607843]]\n",
      "\n",
      " ...\n",
      "\n",
      " [[0.44313726 0.47058824 0.4392157 ]\n",
      "  [0.43529412 0.4627451  0.43529412]\n",
      "  [0.4117647  0.4392157  0.41568628]\n",
      "  ...\n",
      "  [0.28235295 0.31764707 0.3137255 ]\n",
      "  [0.28235295 0.3137255  0.30980393]\n",
      "  [0.28235295 0.3137255  0.30980393]]\n",
      "\n",
      " [[0.43529412 0.4627451  0.43137255]\n",
      "  [0.40784314 0.43529412 0.40784314]\n",
      "  [0.3882353  0.41568628 0.38431373]\n",
      "  ...\n",
      "  [0.26666668 0.29411766 0.28627452]\n",
      "  [0.27450982 0.29803923 0.29411766]\n",
      "  [0.30588236 0.32941177 0.32156864]]\n",
      "\n",
      " [[0.41568628 0.44313726 0.4117647 ]\n",
      "  [0.3882353  0.41568628 0.38431373]\n",
      "  [0.37254903 0.4        0.36862746]\n",
      "  ...\n",
      "  [0.30588236 0.33333334 0.3254902 ]\n",
      "  [0.30980393 0.33333334 0.3254902 ]\n",
      "  [0.3137255  0.3372549  0.32941177]]]\n"
     ]
    },
    {
     "data": {
      "image/png": "[encoded data removed]",
      "text/plain": [
       "<Figure size 432x288 with 1 Axes>"
      ]
     },
     "metadata": {
      "needs_background": "light"
     },
     "output_type": "display_data"
    },
    {
     "name": "stdout",
     "output_type": "stream",
     "text": [
      "Sample input image: [[[0.10980392 0.09803922 0.03921569]\n",
      "  [0.14509805 0.13333334 0.07450981]\n",
      "  [0.14901961 0.13725491 0.07843138]\n",
      "  ...\n",
      "  [0.29803923 0.2627451  0.15294118]\n",
      "  [0.31764707 0.28235295 0.16862746]\n",
      "  [0.33333334 0.29803923 0.18431373]]\n",
      "\n",
      " [[0.12941177 0.10980392 0.05098039]\n",
      "  [0.13333334 0.11764706 0.05490196]\n",
      "  [0.1254902  0.10588235 0.04705882]\n",
      "  ...\n",
      "  [0.37254903 0.32156864 0.21568628]\n",
      "  [0.3764706  0.32156864 0.21960784]\n",
      "  [0.33333334 0.28235295 0.1764706 ]]\n",
      "\n",
      " [[0.15294118 0.1254902  0.05882353]\n",
      "  [0.15686275 0.12941177 0.06666667]\n",
      "  [0.22352941 0.19607843 0.12941177]\n",
      "  ...\n",
      "  [0.3647059  0.29803923 0.20392157]\n",
      "  [0.41960785 0.34901962 0.25882354]\n",
      "  [0.37254903 0.3019608  0.21176471]]\n",
      "\n",
      " ...\n",
      "\n",
      " [[0.3254902  0.28627452 0.20392157]\n",
      "  [0.34117648 0.3019608  0.21960784]\n",
      "  [0.32941177 0.2901961  0.20392157]\n",
      "  ...\n",
      "  [0.3882353  0.3647059  0.27450982]\n",
      "  [0.3529412  0.32941177 0.23921569]\n",
      "  [0.31764707 0.29411766 0.20392157]]\n",
      "\n",
      " [[0.34509805 0.28235295 0.2       ]\n",
      "  [0.3529412  0.2901961  0.20392157]\n",
      "  [0.3647059  0.3019608  0.21960784]\n",
      "  ...\n",
      "  [0.3137255  0.2901961  0.20784314]\n",
      "  [0.29803923 0.27450982 0.19215687]\n",
      "  [0.32156864 0.29803923 0.21568628]]\n",
      "\n",
      " [[0.38039216 0.30588236 0.21960784]\n",
      "  [0.36862746 0.29411766 0.20784314]\n",
      "  [0.3647059  0.29411766 0.20784314]\n",
      "  ...\n",
      "  [0.21176471 0.18431373 0.10980392]\n",
      "  [0.24705882 0.21960784 0.14509805]\n",
      "  [0.28235295 0.25490198 0.18039216]]]\n"
     ]
    },
    {
     "data": {
      "image/png": "[encoded data removed]",
      "text/plain": [
       "<Figure size 432x288 with 1 Axes>"
      ]
     },
     "metadata": {
      "needs_background": "light"
     },
     "output_type": "display_data"
    }
   ],
   "source": [
    "# visualisation of the numerical vector and 2D colour plot of the sample CIFAR imnage 2\n",
    "Selected_Image = 2\n",
    "image = input_X_train[Selected_Image]\n",
    "print (\"Sample input image: \" + str(image))\n",
    "plt.imshow(image)\n",
    "plt.show() \n",
    "\n",
    "Selected_Image = 3\n",
    "image = input_X_train[Selected_Image]\n",
    "print (\"Sample input image: \" + str(image))\n",
    "plt.imshow(image)\n",
    "plt.show() \n",
    "\n",
    "\n",
    "\n"
   ]
  },
  {
   "cell_type": "markdown",
   "metadata": {
    "id": "rTUkz65eIpjx"
   },
   "source": [
    "**Simple CNN model definition**\n",
    "\n",
    "This code defines a simple CNN network.\n",
    "The model will learn 32 convolutional filters, each of a 3 x 3 size. The output dimension is the same one of the input shape, with a 32 x 32 filters (default stride of 1 is used). The activation function ReLU will be used. \n",
    "The network then has a max-pooling layer with pool size 2 x 2, and a dropout at 25%.\n",
    "\n",
    "The next level of depth has a dense layer with 512 units and ReLU activation, followed by a dropout at 50%.\n",
    "Finally, a softmax layer is used with 10 units/classes as output, i.e. one for each of the 10 classes of objects encoded with one-hot coding."
   ]
  },
  {
   "cell_type": "code",
   "execution_count": 84,
   "metadata": {
    "colab": {
     "base_uri": "https://localhost:8080/"
    },
    "id": "ZAWZ0UKzIpjz",
    "outputId": "2dccb2ca-7b79-4e6d-d155-0cf251e0bcd2"
   },
   "outputs": [
    {
     "name": "stdout",
     "output_type": "stream",
     "text": [
      "CNN network definition.\n"
     ]
    }
   ],
   "source": [
    "# network definition\n",
    "\n",
    "model = Sequential()\n",
    "model.add(Conv2D(32, (3, 3), padding='same', input_shape=(IMG_ROWS, IMG_COLS, IMG_CHANNELS)))\n",
    "model.add(Activation('relu'))\n",
    "model.add(MaxPooling2D(pool_size=(2, 2)))\n",
    "model.add(Dropout(0.25))\n",
    "  \n",
    "model.add(Flatten())\n",
    "model.add(Dense(256))\n",
    "model.add(Activation('relu'))\n",
    "model.add(Dropout(0.5))\n",
    "\n",
    "model.add(Dense(N_CLASSES))\n",
    "model.add(Activation('softmax'))\n",
    "\n",
    "print('CNN network definition.')"
   ]
  },
  {
   "cell_type": "markdown",
   "metadata": {
    "id": "M8B4dEyVIpj2"
   },
   "source": [
    "**Model compilation**\n",
    "\n",
    "This compiles the CNN model, and then shows its summary. \n"
   ]
  },
  {
   "cell_type": "code",
   "execution_count": 104,
   "metadata": {
    "colab": {
     "base_uri": "https://localhost:8080/"
    },
    "id": "rLrhT0HSIpj4",
    "outputId": "feaa2ef9-11af-4274-a5a5-4584e81b4569",
    "scrolled": true
   },
   "outputs": [
    {
     "name": "stdout",
     "output_type": "stream",
     "text": [
      "Model: \"sequential_20\"\n",
      "_________________________________________________________________\n",
      " Layer (type)                Output Shape              Param #   \n",
      "=================================================================\n",
      " conv2d_65 (Conv2D)          (None, 32, 32, 32)        896       \n",
      "                                                                 \n",
      " activation_105 (Activation)  (None, 32, 32, 32)       0         \n",
      "                                                                 \n",
      " conv2d_66 (Conv2D)          (None, 32, 32, 32)        9248      \n",
      "                                                                 \n",
      " activation_106 (Activation)  (None, 32, 32, 32)       0         \n",
      "                                                                 \n",
      " max_pooling2d_35 (MaxPoolin  (None, 16, 16, 32)       0         \n",
      " g2D)                                                            \n",
      "                                                                 \n",
      " dropout_55 (Dropout)        (None, 16, 16, 32)        0         \n",
      "                                                                 \n",
      " conv2d_67 (Conv2D)          (None, 16, 16, 64)        18496     \n",
      "                                                                 \n",
      " activation_107 (Activation)  (None, 16, 16, 64)       0         \n",
      "                                                                 \n",
      " conv2d_68 (Conv2D)          (None, 5, 5, 64)          36928     \n",
      "                                                                 \n",
      " activation_108 (Activation)  (None, 5, 5, 64)         0         \n",
      "                                                                 \n",
      " max_pooling2d_36 (MaxPoolin  (None, 2, 2, 64)         0         \n",
      " g2D)                                                            \n",
      "                                                                 \n",
      " dropout_56 (Dropout)        (None, 2, 2, 64)          0         \n",
      "                                                                 \n",
      " flatten_20 (Flatten)        (None, 256)               0         \n",
      "                                                                 \n",
      " dense_40 (Dense)            (None, 512)               131584    \n",
      "                                                                 \n",
      " activation_109 (Activation)  (None, 512)              0         \n",
      "                                                                 \n",
      " dropout_57 (Dropout)        (None, 512)               0         \n",
      "                                                                 \n",
      " dense_41 (Dense)            (None, 10)                5130      \n",
      "                                                                 \n",
      " activation_110 (Activation)  (None, 10)               0         \n",
      "                                                                 \n",
      "=================================================================\n",
      "Total params: 202,282\n",
      "Trainable params: 202,282\n",
      "Non-trainable params: 0\n",
      "_________________________________________________________________\n"
     ]
    }
   ],
   "source": [
    "# compile the model\n",
    "model.compile(loss='categorical_crossentropy', optimizer=OPTIM, metrics=['accuracy'])\n",
    "\n",
    "model.summary()\n"
   ]
  },
  {
   "cell_type": "markdown",
   "metadata": {
    "id": "rAJPemJyIpj9"
   },
   "source": [
    "**Training of the CNN**\n",
    "\n",
    "This line of code trains the model, saving the results in the history variable.\n",
    "\n"
   ]
  },
  {
   "cell_type": "code",
   "execution_count": 86,
   "metadata": {
    "colab": {
     "base_uri": "https://localhost:8080/"
    },
    "id": "s9K5fqdXIpj-",
    "outputId": "d76c2448-a881-4625-b191-d097f29d2da2"
   },
   "outputs": [
    {
     "name": "stdout",
     "output_type": "stream",
     "text": [
      "Epoch 1/20\n",
      "313/313 [==============================] - 8s 25ms/step - loss: 2.1779 - accuracy: 0.1940 - val_loss: 2.0060 - val_accuracy: 0.3007\n",
      "Epoch 2/20\n",
      "313/313 [==============================] - 8s 25ms/step - loss: 1.9905 - accuracy: 0.2791 - val_loss: 1.8869 - val_accuracy: 0.3418\n",
      "Epoch 3/20\n",
      "313/313 [==============================] - 7s 24ms/step - loss: 1.8912 - accuracy: 0.3226 - val_loss: 1.7948 - val_accuracy: 0.3755\n",
      "Epoch 4/20\n",
      "313/313 [==============================] - 7s 23ms/step - loss: 1.8163 - accuracy: 0.3519 - val_loss: 1.7279 - val_accuracy: 0.3968\n",
      "Epoch 5/20\n",
      "313/313 [==============================] - 7s 24ms/step - loss: 1.7524 - accuracy: 0.3746 - val_loss: 1.6647 - val_accuracy: 0.4183\n",
      "Epoch 6/20\n",
      "313/313 [==============================] - 7s 24ms/step - loss: 1.6980 - accuracy: 0.3935 - val_loss: 1.6125 - val_accuracy: 0.4355\n",
      "Epoch 7/20\n",
      "313/313 [==============================] - 7s 24ms/step - loss: 1.6528 - accuracy: 0.4081 - val_loss: 1.5699 - val_accuracy: 0.4443\n",
      "Epoch 8/20\n",
      "313/313 [==============================] - 7s 24ms/step - loss: 1.6109 - accuracy: 0.4221 - val_loss: 1.5348 - val_accuracy: 0.4626\n",
      "Epoch 9/20\n",
      "313/313 [==============================] - 7s 24ms/step - loss: 1.5796 - accuracy: 0.4349 - val_loss: 1.4979 - val_accuracy: 0.4764\n",
      "Epoch 10/20\n",
      "313/313 [==============================] - 8s 24ms/step - loss: 1.5466 - accuracy: 0.4455 - val_loss: 1.4687 - val_accuracy: 0.4854\n",
      "Epoch 11/20\n",
      "313/313 [==============================] - 7s 24ms/step - loss: 1.5194 - accuracy: 0.4555 - val_loss: 1.4428 - val_accuracy: 0.4923\n",
      "Epoch 12/20\n",
      "313/313 [==============================] - 7s 24ms/step - loss: 1.4925 - accuracy: 0.4663 - val_loss: 1.4246 - val_accuracy: 0.5017\n",
      "Epoch 13/20\n",
      "313/313 [==============================] - 7s 24ms/step - loss: 1.4684 - accuracy: 0.4739 - val_loss: 1.3998 - val_accuracy: 0.5108\n",
      "Epoch 14/20\n",
      "313/313 [==============================] - 7s 24ms/step - loss: 1.4475 - accuracy: 0.4826 - val_loss: 1.3862 - val_accuracy: 0.5111\n",
      "Epoch 15/20\n",
      "313/313 [==============================] - 7s 24ms/step - loss: 1.4281 - accuracy: 0.4900 - val_loss: 1.3626 - val_accuracy: 0.5244\n",
      "Epoch 16/20\n",
      "313/313 [==============================] - 7s 24ms/step - loss: 1.4109 - accuracy: 0.4969 - val_loss: 1.3548 - val_accuracy: 0.5254\n",
      "Epoch 17/20\n",
      "313/313 [==============================] - 8s 24ms/step - loss: 1.3874 - accuracy: 0.5031 - val_loss: 1.3326 - val_accuracy: 0.5304\n",
      "Epoch 18/20\n",
      "313/313 [==============================] - 7s 24ms/step - loss: 1.3732 - accuracy: 0.5106 - val_loss: 1.3146 - val_accuracy: 0.5434\n",
      "Epoch 19/20\n",
      "313/313 [==============================] - 7s 24ms/step - loss: 1.3574 - accuracy: 0.5175 - val_loss: 1.3027 - val_accuracy: 0.5458\n",
      "Epoch 20/20\n",
      "313/313 [==============================] - 7s 24ms/step - loss: 1.3406 - accuracy: 0.5221 - val_loss: 1.2852 - val_accuracy: 0.5554\n"
     ]
    }
   ],
   "source": [
    "# training/fitting of the DNN model\n",
    "\n",
    "history = model.fit(input_X_train, output_Y_train, batch_size=BATCH_SIZE, epochs=20, validation_split=VALIDATION_SPLIT,  verbose=VERBOSE)\n"
   ]
  },
  {
   "cell_type": "markdown",
   "metadata": {
    "id": "7-kbN3RlIpkD"
   },
   "source": [
    "**Saving of the model and of the trained weights**\n",
    "\n",
    "This saves the model definition and the weights, after training.\n",
    "\n"
   ]
  },
  {
   "cell_type": "code",
   "execution_count": 105,
   "metadata": {
    "colab": {
     "base_uri": "https://localhost:8080/"
    },
    "id": "Z57S_sTRIpkF",
    "outputId": "72203aab-f064-473f-db85-5bfa788ad8f2"
   },
   "outputs": [],
   "source": [
    "#save model in json format into a file\n",
    "model_json = model.to_json()\n",
    "open('cifar10_architecture.json', 'w').write(model_json)\n",
    "\n",
    "#save the trained weights\n",
    "model.save_weights('cifar10_weights.h5', overwrite=True)"
   ]
  },
  {
   "cell_type": "markdown",
   "metadata": {
    "id": "7GvXVkx1IpkJ"
   },
   "source": [
    "**Analysis of the results**\n",
    "\n",
    "This code generates the test scores, so we can visualise and inspect the model's peformance.\n",
    "\n",
    "It also plots the accuracy and loss values along the training timescale.\n"
   ]
  },
  {
   "cell_type": "code",
   "execution_count": 87,
   "metadata": {
    "colab": {
     "base_uri": "https://localhost:8080/",
     "height": 660
    },
    "id": "N2XtixmtIpkL",
    "outputId": "df3e643a-21f6-4518-fdac-58fa34c17c52"
   },
   "outputs": [
    {
     "name": "stdout",
     "output_type": "stream",
     "text": [
      "79/79 [==============================] - 1s 7ms/step - loss: 1.2666 - accuracy: 0.5546\n",
      "\n",
      "Test score/loss: 1.2666493654251099\n",
      "Test accuracy: 0.5546000003814697\n",
      "dict_keys(['loss', 'accuracy', 'val_loss', 'val_accuracy'])\n"
     ]
    },
    {
     "data": {
      "image/png": "[encoded data removed]",
      "text/plain": [
       "<Figure size 432x288 with 1 Axes>"
      ]
     },
     "metadata": {
      "needs_background": "light"
     },
     "output_type": "display_data"
    },
    {
     "data": {
      "image/png": "[encoded data removed]",
      "text/plain": [
       "<Figure size 432x288 with 1 Axes>"
      ]
     },
     "metadata": {
      "needs_background": "light"
     },
     "output_type": "display_data"
    }
   ],
   "source": [
    "#Testing\n",
    "score = model.evaluate(input_X_test, output_Y_test, batch_size=BATCH_SIZE, verbose=VERBOSE)\n",
    "print(\"\\nTest score/loss:\", score[0])\n",
    "print('Test accuracy:', score[1])\n",
    "\n",
    "# list all data in history\n",
    "print(history.history.keys())\n",
    "\n",
    "# summarize history for accuracy\n",
    "#plt.plot(mo)\n",
    "plt.plot(history.history['accuracy'])\n",
    "plt.plot(history.history['val_accuracy'])\n",
    "plt.title('model accuracy')\n",
    "plt.ylabel('accuracy')\n",
    "plt.xlabel('epoch')\n",
    "plt.legend(['train', 'test'], loc='upper left')\n",
    "plt.show()\n",
    "\n",
    "# summarize history for loss\n",
    "plt.plot(history.history['loss'])\n",
    "plt.plot(history.history['val_loss'])\n",
    "plt.title('model loss')\n",
    "plt.ylabel('loss')\n",
    "plt.xlabel('epoch')\n",
    "plt.legend(['train', 'test'], loc='upper left')\n",
    "plt.show()\n"
   ]
  },
  {
   "cell_type": "markdown",
   "metadata": {
    "id": "1o9i5nqDIpkO"
   },
   "source": [
    "A deeper CNN\n",
    "-------------\n",
    "The model under is without batch normalisation "
   ]
  },
  {
   "cell_type": "code",
   "execution_count": 96,
   "metadata": {},
   "outputs": [],
   "source": [
    "N_EPOCH = 50 \n",
    "\n",
    "model = Sequential()\n",
    " \n",
    "model.add(Conv2D(32, kernel_size=3, padding='same', input_shape=(IMG_ROWS, IMG_COLS, IMG_CHANNELS)))\n",
    "model.add(Activation('relu'))\n",
    "model.add(Conv2D(32, kernel_size=3, padding='same'))\n",
    "model.add(Activation('relu'))\n",
    "model.add(MaxPooling2D(pool_size=(2, 2)))\n",
    "model.add(Dropout(0.25))\n",
    " \n",
    "model.add(Conv2D(64, kernel_size=3, padding='same'))\n",
    "model.add(Activation('relu'))\n",
    "model.add(Conv2D(64, 3, 3))\n",
    "model.add(Activation('relu'))\n",
    "model.add(MaxPooling2D(pool_size=(2, 2)))\n",
    "model.add(Dropout(0.25))\n",
    " \n",
    "model.add(Flatten())\n",
    "model.add(Dense(512))\n",
    "model.add(Activation('relu'))\n",
    "model.add(Dropout(0.5))\n",
    "model.add(Dense(N_CLASSES))\n",
    "model.add(Activation('softmax'))\n",
    "\n",
    "\n",
    "OPTIM = SGD(learning_rate=0.01, decay=1e-6, momentum=0.9, nesterov=True)\n",
    "model.compile(loss='categorical_crossentropy', optimizer= OPTIM, metrics=['accuracy'])"
   ]
  },
  {
   "cell_type": "markdown",
   "metadata": {},
   "source": [
    "The model under is with batch normalisation "
   ]
  },
  {
   "cell_type": "code",
   "execution_count": 106,
   "metadata": {
    "colab": {
     "base_uri": "https://localhost:8080/"
    },
    "id": "VmaK6n4AIpkP",
    "outputId": "72f4485b-572b-4989-b03e-07be8090c7c1"
   },
   "outputs": [],
   "source": [
    "N_EPOCH = 50 \n",
    "\n",
    "model = Sequential()\n",
    " \n",
    "model.add(Conv2D(32, kernel_size=3, padding='same', input_shape=(IMG_ROWS, IMG_COLS, IMG_CHANNELS)))\n",
    "model.add(Activation('relu'))\n",
    "model.add(BatchNormalization())\n",
    "model.add(Conv2D(32, kernel_size=3, padding='same'))\n",
    "model.add(Activation('relu'))\n",
    "model.add(BatchNormalization())\n",
    "model.add(MaxPooling2D(pool_size=(2, 2)))\n",
    "model.add(Dropout(0.25))\n",
    " \n",
    "model.add(Conv2D(64, kernel_size=3, padding='same'))\n",
    "model.add(Activation('relu'))\n",
    "model.add(BatchNormalization())\n",
    "model.add(Conv2D(64, 3, 3))\n",
    "model.add(Activation('relu'))\n",
    "model.add(BatchNormalization())\n",
    "model.add(MaxPooling2D(pool_size=(2, 2)))\n",
    "model.add(Dropout(0.25))\n",
    " \n",
    "model.add(Flatten())\n",
    "model.add(Dense(512))\n",
    "model.add(Activation('relu'))\n",
    "model.add(Dropout(0.5))\n",
    "model.add(Dense(N_CLASSES))\n",
    "model.add(Activation('softmax'))\n",
    "\n",
    "\n",
    "OPTIM = SGD(learning_rate=0.01, decay=1e-6, momentum=0.9, nesterov=True)\n",
    "\n",
    "model.compile(loss='categorical_crossentropy', optimizer= OPTIM, metrics=['accuracy'])\n",
    "\n",
    "# model.summary()"
   ]
  },
  {
   "cell_type": "markdown",
   "metadata": {
    "id": "N_WU_cUNkmr-"
   },
   "source": [
    "**Training of the deeper CNN**\n",
    "\n",
    "Let's train (fit) this new model.\n",
    "\n"
   ]
  },
  {
   "cell_type": "code",
   "execution_count": 97,
   "metadata": {
    "colab": {
     "base_uri": "https://localhost:8080/"
    },
    "id": "ctRJSHkVkmr_",
    "outputId": "c00b1c5f-28e7-43aa-cc3c-0384b01ad3a1"
   },
   "outputs": [
    {
     "name": "stdout",
     "output_type": "stream",
     "text": [
      "Epoch 1/50\n",
      "313/313 [==============================] - 25s 78ms/step - loss: 2.1650 - accuracy: 0.1832 - val_loss: 2.0153 - val_accuracy: 0.2551\n",
      "Epoch 2/50\n",
      "313/313 [==============================] - 24s 76ms/step - loss: 1.9156 - accuracy: 0.2776 - val_loss: 1.7316 - val_accuracy: 0.3542\n",
      "Epoch 3/50\n",
      "313/313 [==============================] - 24s 77ms/step - loss: 1.7252 - accuracy: 0.3556 - val_loss: 1.5883 - val_accuracy: 0.4098\n",
      "Epoch 4/50\n",
      "313/313 [==============================] - 24s 77ms/step - loss: 1.5833 - accuracy: 0.4063 - val_loss: 1.4769 - val_accuracy: 0.4586\n",
      "Epoch 5/50\n",
      "313/313 [==============================] - 24s 77ms/step - loss: 1.4927 - accuracy: 0.4470 - val_loss: 1.3591 - val_accuracy: 0.5025\n",
      "Epoch 6/50\n",
      "313/313 [==============================] - 23s 75ms/step - loss: 1.4193 - accuracy: 0.4782 - val_loss: 1.3519 - val_accuracy: 0.5206\n",
      "Epoch 7/50\n",
      "313/313 [==============================] - 24s 76ms/step - loss: 1.3515 - accuracy: 0.5060 - val_loss: 1.2217 - val_accuracy: 0.5572\n",
      "Epoch 8/50\n",
      "313/313 [==============================] - 23s 74ms/step - loss: 1.2889 - accuracy: 0.5309 - val_loss: 1.2216 - val_accuracy: 0.5540\n",
      "Epoch 9/50\n",
      "313/313 [==============================] - 24s 75ms/step - loss: 1.2421 - accuracy: 0.5529 - val_loss: 1.1189 - val_accuracy: 0.6001\n",
      "Epoch 10/50\n",
      "313/313 [==============================] - 24s 76ms/step - loss: 1.2042 - accuracy: 0.5644 - val_loss: 1.1147 - val_accuracy: 0.6017\n",
      "Epoch 11/50\n",
      "313/313 [==============================] - 24s 77ms/step - loss: 1.1685 - accuracy: 0.5791 - val_loss: 1.0713 - val_accuracy: 0.6214\n",
      "Epoch 12/50\n",
      "313/313 [==============================] - 24s 75ms/step - loss: 1.1422 - accuracy: 0.5913 - val_loss: 1.0352 - val_accuracy: 0.6358\n",
      "Epoch 13/50\n",
      "313/313 [==============================] - 25s 79ms/step - loss: 1.1109 - accuracy: 0.6004 - val_loss: 1.0382 - val_accuracy: 0.6311\n",
      "Epoch 14/50\n",
      "313/313 [==============================] - 24s 76ms/step - loss: 1.0839 - accuracy: 0.6144 - val_loss: 0.9870 - val_accuracy: 0.6552\n",
      "Epoch 15/50\n",
      "313/313 [==============================] - 25s 80ms/step - loss: 1.0612 - accuracy: 0.6254 - val_loss: 1.0151 - val_accuracy: 0.6412\n",
      "Epoch 16/50\n",
      "313/313 [==============================] - 24s 76ms/step - loss: 1.0357 - accuracy: 0.6317 - val_loss: 0.9360 - val_accuracy: 0.6685\n",
      "Epoch 17/50\n",
      "313/313 [==============================] - 23s 75ms/step - loss: 1.0137 - accuracy: 0.6404 - val_loss: 0.9274 - val_accuracy: 0.6732\n",
      "Epoch 18/50\n",
      "313/313 [==============================] - 23s 74ms/step - loss: 0.9955 - accuracy: 0.6495 - val_loss: 0.9206 - val_accuracy: 0.6747\n",
      "Epoch 19/50\n",
      "313/313 [==============================] - 24s 77ms/step - loss: 0.9755 - accuracy: 0.6534 - val_loss: 0.8949 - val_accuracy: 0.6863\n",
      "Epoch 20/50\n",
      "313/313 [==============================] - 25s 79ms/step - loss: 0.9589 - accuracy: 0.6607 - val_loss: 0.8988 - val_accuracy: 0.6817\n",
      "Epoch 21/50\n",
      "313/313 [==============================] - 24s 78ms/step - loss: 0.9358 - accuracy: 0.6679 - val_loss: 0.8661 - val_accuracy: 0.6959\n",
      "Epoch 22/50\n",
      "313/313 [==============================] - 24s 76ms/step - loss: 0.9251 - accuracy: 0.6716 - val_loss: 0.8707 - val_accuracy: 0.6917\n",
      "Epoch 23/50\n",
      "313/313 [==============================] - 23s 74ms/step - loss: 0.9110 - accuracy: 0.6790 - val_loss: 0.8326 - val_accuracy: 0.7054\n",
      "Epoch 24/50\n",
      "313/313 [==============================] - 23s 75ms/step - loss: 0.8985 - accuracy: 0.6805 - val_loss: 0.8491 - val_accuracy: 0.7058\n",
      "Epoch 25/50\n",
      "313/313 [==============================] - 24s 75ms/step - loss: 0.8858 - accuracy: 0.6857 - val_loss: 0.8189 - val_accuracy: 0.7117\n",
      "Epoch 26/50\n",
      "313/313 [==============================] - 23s 74ms/step - loss: 0.8724 - accuracy: 0.6920 - val_loss: 0.8080 - val_accuracy: 0.7169\n",
      "Epoch 27/50\n",
      "313/313 [==============================] - 25s 80ms/step - loss: 0.8611 - accuracy: 0.6951 - val_loss: 0.8137 - val_accuracy: 0.7163\n",
      "Epoch 28/50\n",
      "313/313 [==============================] - 24s 78ms/step - loss: 0.8500 - accuracy: 0.7012 - val_loss: 0.8188 - val_accuracy: 0.7167\n",
      "Epoch 29/50\n",
      "313/313 [==============================] - 25s 78ms/step - loss: 0.8389 - accuracy: 0.7039 - val_loss: 0.8282 - val_accuracy: 0.7095\n",
      "Epoch 30/50\n",
      "313/313 [==============================] - 24s 76ms/step - loss: 0.8305 - accuracy: 0.7057 - val_loss: 0.7973 - val_accuracy: 0.7205\n",
      "Epoch 31/50\n",
      "313/313 [==============================] - 25s 79ms/step - loss: 0.8262 - accuracy: 0.7077 - val_loss: 0.7796 - val_accuracy: 0.7261\n",
      "Epoch 32/50\n",
      "313/313 [==============================] - 24s 77ms/step - loss: 0.8078 - accuracy: 0.7139 - val_loss: 0.8392 - val_accuracy: 0.7086\n",
      "Epoch 33/50\n",
      "313/313 [==============================] - 25s 79ms/step - loss: 0.7978 - accuracy: 0.7193 - val_loss: 0.8067 - val_accuracy: 0.7202\n",
      "Epoch 34/50\n",
      "313/313 [==============================] - 24s 76ms/step - loss: 0.7919 - accuracy: 0.7185 - val_loss: 0.7653 - val_accuracy: 0.7365\n",
      "Epoch 35/50\n",
      "313/313 [==============================] - 24s 77ms/step - loss: 0.7862 - accuracy: 0.7219 - val_loss: 0.7969 - val_accuracy: 0.7204\n",
      "Epoch 36/50\n",
      "313/313 [==============================] - 24s 76ms/step - loss: 0.7735 - accuracy: 0.7241 - val_loss: 0.7742 - val_accuracy: 0.7282\n",
      "Epoch 37/50\n",
      "313/313 [==============================] - 24s 76ms/step - loss: 0.7722 - accuracy: 0.7269 - val_loss: 0.7478 - val_accuracy: 0.7426\n",
      "Epoch 38/50\n",
      "313/313 [==============================] - 24s 78ms/step - loss: 0.7599 - accuracy: 0.7308 - val_loss: 0.7751 - val_accuracy: 0.7290\n",
      "Epoch 39/50\n",
      "313/313 [==============================] - 23s 75ms/step - loss: 0.7544 - accuracy: 0.7327 - val_loss: 0.7616 - val_accuracy: 0.7387\n",
      "Epoch 40/50\n",
      "313/313 [==============================] - 23s 75ms/step - loss: 0.7521 - accuracy: 0.7358 - val_loss: 0.7558 - val_accuracy: 0.7379\n",
      "Epoch 41/50\n",
      "313/313 [==============================] - 23s 74ms/step - loss: 0.7452 - accuracy: 0.7375 - val_loss: 0.7613 - val_accuracy: 0.7337\n",
      "Epoch 42/50\n",
      "313/313 [==============================] - 24s 78ms/step - loss: 0.7332 - accuracy: 0.7420 - val_loss: 0.7555 - val_accuracy: 0.7386\n",
      "Epoch 43/50\n",
      "313/313 [==============================] - 25s 81ms/step - loss: 0.7329 - accuracy: 0.7388 - val_loss: 0.7516 - val_accuracy: 0.7356\n",
      "Epoch 44/50\n",
      "313/313 [==============================] - 25s 81ms/step - loss: 0.7237 - accuracy: 0.7451 - val_loss: 0.7215 - val_accuracy: 0.7470\n",
      "Epoch 45/50\n",
      "313/313 [==============================] - 24s 76ms/step - loss: 0.7241 - accuracy: 0.7415 - val_loss: 0.7373 - val_accuracy: 0.7503\n",
      "Epoch 46/50\n",
      "313/313 [==============================] - 23s 74ms/step - loss: 0.7060 - accuracy: 0.7497 - val_loss: 0.7149 - val_accuracy: 0.7518\n",
      "Epoch 47/50\n",
      "313/313 [==============================] - 24s 75ms/step - loss: 0.7091 - accuracy: 0.7484 - val_loss: 0.7315 - val_accuracy: 0.7485\n",
      "Epoch 48/50\n",
      "313/313 [==============================] - 23s 75ms/step - loss: 0.7021 - accuracy: 0.7494 - val_loss: 0.7450 - val_accuracy: 0.7476\n",
      "Epoch 49/50\n",
      "313/313 [==============================] - 23s 75ms/step - loss: 0.6981 - accuracy: 0.7508 - val_loss: 0.7477 - val_accuracy: 0.7460\n",
      "Epoch 50/50\n",
      "313/313 [==============================] - 23s 74ms/step - loss: 0.6940 - accuracy: 0.7532 - val_loss: 0.7394 - val_accuracy: 0.7453\n"
     ]
    }
   ],
   "source": [
    "# training/fitting of the complex DNN model \n",
    "history = model.fit(input_X_train, output_Y_train, batch_size=BATCH_SIZE, epochs=50, validation_split=VALIDATION_SPLIT,  verbose=VERBOSE)\n"
   ]
  },
  {
   "cell_type": "markdown",
   "metadata": {
    "id": "hhkax6pXIpkT"
   },
   "source": [
    "**Analysis of the Deeper CNN results**\n",
    "\n",
    "This generates the test scores and plots for the new, deeper DNN.\n"
   ]
  },
  {
   "cell_type": "code",
   "execution_count": 98,
   "metadata": {
    "colab": {
     "base_uri": "https://localhost:8080/",
     "height": 660
    },
    "id": "FfRvK-lUIpkU",
    "outputId": "f08bcd89-00a2-4b1a-c514-0ba83410ca33"
   },
   "outputs": [
    {
     "name": "stdout",
     "output_type": "stream",
     "text": [
      "79/79 [==============================] - 2s 21ms/step - loss: 0.7628 - accuracy: 0.7396\n",
      "\n",
      "Test score/loss: 0.762792706489563\n",
      "Test accuracy: 0.7396000027656555\n",
      "dict_keys(['loss', 'accuracy', 'val_loss', 'val_accuracy'])\n"
     ]
    },
    {
     "data": {
      "image/png": "[encoded data removed]",
      "text/plain": [
       "<Figure size 432x288 with 1 Axes>"
      ]
     },
     "metadata": {
      "needs_background": "light"
     },
     "output_type": "display_data"
    },
    {
     "data": {
      "image/png": "[encoded data removed]",
      "text/plain": [
       "<Figure size 432x288 with 1 Axes>"
      ]
     },
     "metadata": {
      "needs_background": "light"
     },
     "output_type": "display_data"
    }
   ],
   "source": [
    "#Testing\n",
    "score = model.evaluate(input_X_test, output_Y_test, batch_size=BATCH_SIZE, verbose=VERBOSE)\n",
    "print(\"\\nTest score/loss:\", score[0])\n",
    "print('Test accuracy:', score[1])\n",
    "\n",
    "# list all data in history\n",
    "print(history.history.keys())\n",
    "\n",
    "# summarize history for accuracy\n",
    "#plt.plot(mo)\n",
    "plt.plot(history.history['accuracy'])\n",
    "plt.plot(history.history['val_accuracy'])\n",
    "plt.title('model accuracy')\n",
    "plt.ylabel('accuracy')\n",
    "plt.xlabel('epoch')\n",
    "plt.legend(['train', 'test'], loc='upper left')\n",
    "plt.show()\n",
    "\n",
    "# summarize history for loss\n",
    "plt.plot(history.history['loss'])\n",
    "plt.plot(history.history['val_loss'])\n",
    "plt.title('model loss')\n",
    "plt.ylabel('loss')\n",
    "plt.xlabel('epoch')\n",
    "plt.legend(['train', 'test'], loc='upper left')\n",
    "plt.show()"
   ]
  }
 ],
 "metadata": {
  "accelerator": "GPU",
  "colab": {
   "provenance": []
  },
  "kernelspec": {
   "display_name": "Python 3 (ipykernel)",
   "language": "python",
   "name": "python3"
  },
  "language_info": {
   "codemirror_mode": {
    "name": "ipython",
    "version": 3
   },
   "file_extension": ".py",
   "mimetype": "text/x-python",
   "name": "python",
   "nbconvert_exporter": "python",
   "pygments_lexer": "ipython3",
   "version": "3.9.12"
  }
 },
 "nbformat": 4,
 "nbformat_minor": 1
}
